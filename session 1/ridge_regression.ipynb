{
 "cells": [
  {
   "cell_type": "code",
   "execution_count": 1,
   "metadata": {},
   "outputs": [],
   "source": [
    "import numpy as np\n",
    "import pandas as pd"
   ]
  },
  {
   "cell_type": "code",
   "execution_count": 2,
   "metadata": {},
   "outputs": [],
   "source": [
    "\n",
    "def get_data():\n",
    "    df = pd.read_csv('data/x28.txt', skiprows=72, header=None, sep=r'\\s+', index_col=0)\n",
    "    df.columns = [f'A{i}' for i in range(1, 16)] + ['B']\n",
    "    df = df.reset_index(drop=True)\n",
    "    return df.iloc[:, :-1], df.iloc[:, -1]"
   ]
  },
  {
   "cell_type": "code",
   "execution_count": 3,
   "metadata": {},
   "outputs": [],
   "source": [
    "def normalize_and_add_ones(X):\n",
    "    X = np.array(X)\n",
    "    X_max = X.max(axis=0)\n",
    "    X_min = X.min(axis=0)\n",
    "\n",
    "    X_normalized = (X - X_min) / (X_max - X_min)\n",
    "    ones = np.ones(X.shape[0])\n",
    "\n",
    "    return np.column_stack((ones, X_normalized))"
   ]
  },
  {
   "cell_type": "code",
   "execution_count": 4,
   "metadata": {},
   "outputs": [],
   "source": [
    "class RidgeRegression:\n",
    "    def __init__(self) -> None:\n",
    "        return\n",
    "    \n",
    "    def fit(self, X_train, y_train, LAMBDA):\n",
    "        assert len(X_train.shape)==2 and X_train.shape[0]==y_train.shape[0]\n",
    "        W = np.linalg.inv(X_train.T @ X_train + LAMBDA * np.eye(X_train.shape[1])) @ X_train.T @ y_train\n",
    "\n",
    "        return W\n",
    "    \n",
    "    def fit_gradient_descent(self, X_train, y_train, LAMBDA, learning_rate, max_num_epoch=100, batch_size=128):\n",
    "        W = np.random.randn(X_train.shape[1])\n",
    "        last_loss = 10e+8\n",
    "\n",
    "        for ep in range(max_num_epoch):\n",
    "            arr = np.array(range(X_train.shape[0]))\n",
    "            np.random.shuffle(arr)\n",
    "            X_train = X_train[arr]\n",
    "            y_train = y_train[arr]\n",
    "            total_minibatch = int(np.ceil(X_train.shape[0] / batch_size))\n",
    "            for i in range(total_minibatch):\n",
    "                index = i * batch_size\n",
    "\n",
    "                X_train_sub = X_train[index:index + batch_size]\n",
    "                y_train_sub = y_train[index:index + batch_size]\n",
    "                grad = X_train_sub.T @ (X_train_sub @ W - y_train_sub) + LAMBDA * W\n",
    "\n",
    "                W -= learning_rate * grad\n",
    "\n",
    "            new_loss = self.compute_RSS(self.predict(W, X_train), y_train)\n",
    "            if (np.abs(new_loss - last_loss) <= 1e-5):\n",
    "                break\n",
    "            last_loss = new_loss\n",
    "        \n",
    "        return W\n",
    "\n",
    "    def predict(self, W, X_new):\n",
    "        X_new = np.array(X_new)\n",
    "        y_new = X_new @ W\n",
    "        return y_new\n",
    "    \n",
    "    def compute_RSS(self, y_new, y_predicted):\n",
    "        loss = 1. / y_new.shape[0] * np.sum((y_new - y_predicted) ** 2)\n",
    "\n",
    "        return loss\n",
    "    \n",
    "    def get_the_best_LAMBDA(self, X_train, y_train):\n",
    "        def cross_validation(num_folds, LAMBDA):\n",
    "            row_ids = np.array(range(X_train.shape[0]))\n",
    "            valid_ids = np.split(row_ids[:len(row_ids) - len(row_ids) % num_folds], num_folds)\n",
    "            valid_ids[-1] = np.append(valid_ids[-1], row_ids[len(row_ids) - len(row_ids) % num_folds:])\n",
    "            train_ids = [[k for k in row_ids if k not in valid_ids[i]] for i in range(num_folds)]\n",
    "            aver_RSS = 0\n",
    "            for i in range(num_folds):\n",
    "                valid_part = {'X': X_train[valid_ids[i]], 'Y': y_train[valid_ids[i]]}\n",
    "                train_part = {'X': X_train[train_ids[i]], 'Y': y_train[train_ids[i]]}\n",
    "                W = self.fit(train_part['X'], train_part['Y'], LAMBDA)\n",
    "                Y_predicted = self.predict(W, valid_part['X'])\n",
    "                aver_RSS += self.compute_RSS(valid_part['Y'], Y_predicted)\n",
    "\n",
    "            return aver_RSS / num_folds\n",
    "\n",
    "        def range_scan(best_LAMBDA, minimum_RSS, LAMBDA_values):\n",
    "            for current_LAMBDA in LAMBDA_values:\n",
    "                aver_RSS = cross_validation(5, current_LAMBDA)\n",
    "                if aver_RSS < minimum_RSS:\n",
    "                    best_LAMBDA = current_LAMBDA\n",
    "                    minimum_RSS = aver_RSS\n",
    "                    \n",
    "            return best_LAMBDA, minimum_RSS\n",
    "        \n",
    "        best_LAMBDA, minimum_RSS = range_scan(best_LAMBDA=0, minimum_RSS=10000 ** 2, LAMBDA_values=range(50))\n",
    "\n",
    "        LAMBDA_values = [k * 1. / 1000 for k in range(max(0, (best_LAMBDA-1) * 1000), (best_LAMBDA+1) * 1000)] # step_size = 0.001\n",
    "        \n",
    "        best_LAMBDA, minimum_RSS = range_scan(best_LAMBDA=best_LAMBDA, minimum_RSS=minimum_RSS, LAMBDA_values=LAMBDA_values)\n",
    "        \n",
    "        return best_LAMBDA"
   ]
  },
  {
   "cell_type": "code",
   "execution_count": 5,
   "metadata": {},
   "outputs": [
    {
     "name": "stdout",
     "output_type": "stream",
     "text": [
      "Best LAMBDA: 0.861\n",
      "RSS: 0.016125523485601617\n"
     ]
    }
   ],
   "source": [
    "X, y = get_data()\n",
    "\n",
    "X = normalize_and_add_ones(X)\n",
    "y = (y - y.min()) / (y.max() - y.min())\n",
    "\n",
    "X_train, y_train = X[:50], y[:50]\n",
    "X_test, y_test = X[50:], y[50:]\n",
    "\n",
    "ridge_regression = RidgeRegression()\n",
    "best_LAMBDA = ridge_regression.get_the_best_LAMBDA(X_train, y_train)\n",
    "print(f'Best LAMBDA: {best_LAMBDA}')\n",
    "\n",
    "W_learned = ridge_regression.fit(X_train, y_train, best_LAMBDA)\n",
    "y_predicted = ridge_regression.predict(W_learned, X_test)\n",
    "\n",
    "RSS = ridge_regression.compute_RSS(y_test, y_predicted)\n",
    "print(f'RSS: {RSS}')"
   ]
  }
 ],
 "metadata": {
  "kernelspec": {
   "display_name": "kAI",
   "language": "python",
   "name": "python3"
  },
  "language_info": {
   "codemirror_mode": {
    "name": "ipython",
    "version": 3
   },
   "file_extension": ".py",
   "mimetype": "text/x-python",
   "name": "python",
   "nbconvert_exporter": "python",
   "pygments_lexer": "ipython3",
   "version": "3.11.5"
  }
 },
 "nbformat": 4,
 "nbformat_minor": 2
}
